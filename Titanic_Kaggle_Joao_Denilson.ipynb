{
  "nbformat": 4,
  "nbformat_minor": 0,
  "metadata": {
    "kernelspec": {
      "display_name": "Python 3",
      "language": "python",
      "name": "python3"
    },
    "language_info": {
      "codemirror_mode": {
        "name": "ipython",
        "version": 3
      },
      "file_extension": ".py",
      "mimetype": "text/x-python",
      "name": "python",
      "nbconvert_exporter": "python",
      "pygments_lexer": "ipython3",
      "version": "3.7.4"
    },
    "colab": {
      "name": "Titanic_Kaggle_Joao-Denilson.ipynb",
      "provenance": [],
      "collapsed_sections": []
    }
  },
  "cells": [
    {
      "cell_type": "code",
      "metadata": {
        "id": "uh2Lrx8eYTXr",
        "colab_type": "code",
        "colab": {}
      },
      "source": [
        "import pandas as pd\n",
        "import numpy as np\n",
        "from sklearn.svm import SVC\n",
        "from sklearn.linear_model import LogisticRegression\n",
        "from sklearn.model_selection import train_test_split\n",
        "from sklearn.model_selection import RepeatedKFold"
      ],
      "execution_count": 9,
      "outputs": []
    },
    {
      "cell_type": "code",
      "metadata": {
        "id": "kWO7KfT6YTYC",
        "colab_type": "code",
        "colab": {}
      },
      "source": [
        "def convert_sex(valor):\n",
        "    if valor == 'female':\n",
        "        return 1\n",
        "    else:\n",
        "        return 0"
      ],
      "execution_count": 10,
      "outputs": []
    },
    {
      "cell_type": "code",
      "metadata": {
        "id": "KAP7vv4sYTYW",
        "colab_type": "code",
        "colab": {}
      },
      "source": [
        "train = pd.read_csv(\"train.csv\")\n",
        "test = pd.read_csv(\"test.csv\")\n",
        "\n",
        "train['sex_bin'] = train['Sex'].map(convert_sex)\n",
        "test['sex_bin'] = test['Sex'].map(convert_sex)\n",
        "\n",
        "train['Age'].fillna(train['Age'].mean(), inplace=True)\n",
        "test['Age'].fillna(test['Age'].mean(), inplace=True)\n",
        "\n",
        "var = ['sex_bin','Age','Pclass','SibSp','Parch','Fare']\n",
        "\n",
        "X = train[var]\n",
        "X = X.fillna(-1)\n",
        "y = train['Survived']"
      ],
      "execution_count": 11,
      "outputs": []
    },
    {
      "cell_type": "code",
      "metadata": {
        "id": "iVCBOiqXeHMf",
        "colab_type": "code",
        "colab": {
          "base_uri": "https://localhost:8080/",
          "height": 419
        },
        "outputId": "1a4437e2-be55-4885-95b5-cb7ba801188e"
      },
      "source": [
        "X"
      ],
      "execution_count": 12,
      "outputs": [
        {
          "output_type": "execute_result",
          "data": {
            "text/html": [
              "<div>\n",
              "<style scoped>\n",
              "    .dataframe tbody tr th:only-of-type {\n",
              "        vertical-align: middle;\n",
              "    }\n",
              "\n",
              "    .dataframe tbody tr th {\n",
              "        vertical-align: top;\n",
              "    }\n",
              "\n",
              "    .dataframe thead th {\n",
              "        text-align: right;\n",
              "    }\n",
              "</style>\n",
              "<table border=\"1\" class=\"dataframe\">\n",
              "  <thead>\n",
              "    <tr style=\"text-align: right;\">\n",
              "      <th></th>\n",
              "      <th>sex_bin</th>\n",
              "      <th>Age</th>\n",
              "      <th>Pclass</th>\n",
              "      <th>SibSp</th>\n",
              "      <th>Parch</th>\n",
              "      <th>Fare</th>\n",
              "    </tr>\n",
              "  </thead>\n",
              "  <tbody>\n",
              "    <tr>\n",
              "      <th>0</th>\n",
              "      <td>0</td>\n",
              "      <td>22.000000</td>\n",
              "      <td>3</td>\n",
              "      <td>1</td>\n",
              "      <td>0</td>\n",
              "      <td>7.2500</td>\n",
              "    </tr>\n",
              "    <tr>\n",
              "      <th>1</th>\n",
              "      <td>1</td>\n",
              "      <td>38.000000</td>\n",
              "      <td>1</td>\n",
              "      <td>1</td>\n",
              "      <td>0</td>\n",
              "      <td>71.2833</td>\n",
              "    </tr>\n",
              "    <tr>\n",
              "      <th>2</th>\n",
              "      <td>1</td>\n",
              "      <td>26.000000</td>\n",
              "      <td>3</td>\n",
              "      <td>0</td>\n",
              "      <td>0</td>\n",
              "      <td>7.9250</td>\n",
              "    </tr>\n",
              "    <tr>\n",
              "      <th>3</th>\n",
              "      <td>1</td>\n",
              "      <td>35.000000</td>\n",
              "      <td>1</td>\n",
              "      <td>1</td>\n",
              "      <td>0</td>\n",
              "      <td>53.1000</td>\n",
              "    </tr>\n",
              "    <tr>\n",
              "      <th>4</th>\n",
              "      <td>0</td>\n",
              "      <td>35.000000</td>\n",
              "      <td>3</td>\n",
              "      <td>0</td>\n",
              "      <td>0</td>\n",
              "      <td>8.0500</td>\n",
              "    </tr>\n",
              "    <tr>\n",
              "      <th>...</th>\n",
              "      <td>...</td>\n",
              "      <td>...</td>\n",
              "      <td>...</td>\n",
              "      <td>...</td>\n",
              "      <td>...</td>\n",
              "      <td>...</td>\n",
              "    </tr>\n",
              "    <tr>\n",
              "      <th>886</th>\n",
              "      <td>0</td>\n",
              "      <td>27.000000</td>\n",
              "      <td>2</td>\n",
              "      <td>0</td>\n",
              "      <td>0</td>\n",
              "      <td>13.0000</td>\n",
              "    </tr>\n",
              "    <tr>\n",
              "      <th>887</th>\n",
              "      <td>1</td>\n",
              "      <td>19.000000</td>\n",
              "      <td>1</td>\n",
              "      <td>0</td>\n",
              "      <td>0</td>\n",
              "      <td>30.0000</td>\n",
              "    </tr>\n",
              "    <tr>\n",
              "      <th>888</th>\n",
              "      <td>1</td>\n",
              "      <td>29.699118</td>\n",
              "      <td>3</td>\n",
              "      <td>1</td>\n",
              "      <td>2</td>\n",
              "      <td>23.4500</td>\n",
              "    </tr>\n",
              "    <tr>\n",
              "      <th>889</th>\n",
              "      <td>0</td>\n",
              "      <td>26.000000</td>\n",
              "      <td>1</td>\n",
              "      <td>0</td>\n",
              "      <td>0</td>\n",
              "      <td>30.0000</td>\n",
              "    </tr>\n",
              "    <tr>\n",
              "      <th>890</th>\n",
              "      <td>0</td>\n",
              "      <td>32.000000</td>\n",
              "      <td>3</td>\n",
              "      <td>0</td>\n",
              "      <td>0</td>\n",
              "      <td>7.7500</td>\n",
              "    </tr>\n",
              "  </tbody>\n",
              "</table>\n",
              "<p>891 rows × 6 columns</p>\n",
              "</div>"
            ],
            "text/plain": [
              "     sex_bin        Age  Pclass  SibSp  Parch     Fare\n",
              "0          0  22.000000       3      1      0   7.2500\n",
              "1          1  38.000000       1      1      0  71.2833\n",
              "2          1  26.000000       3      0      0   7.9250\n",
              "3          1  35.000000       1      1      0  53.1000\n",
              "4          0  35.000000       3      0      0   8.0500\n",
              "..       ...        ...     ...    ...    ...      ...\n",
              "886        0  27.000000       2      0      0  13.0000\n",
              "887        1  19.000000       1      0      0  30.0000\n",
              "888        1  29.699118       3      1      2  23.4500\n",
              "889        0  26.000000       1      0      0  30.0000\n",
              "890        0  32.000000       3      0      0   7.7500\n",
              "\n",
              "[891 rows x 6 columns]"
            ]
          },
          "metadata": {
            "tags": []
          },
          "execution_count": 12
        }
      ]
    },
    {
      "cell_type": "code",
      "metadata": {
        "id": "YY7kg9GpeKpy",
        "colab_type": "code",
        "colab": {
          "base_uri": "https://localhost:8080/",
          "height": 221
        },
        "outputId": "460ec15b-113a-4536-9246-127fbaee78ab"
      },
      "source": [
        "y"
      ],
      "execution_count": 13,
      "outputs": [
        {
          "output_type": "execute_result",
          "data": {
            "text/plain": [
              "0      0\n",
              "1      1\n",
              "2      1\n",
              "3      1\n",
              "4      0\n",
              "      ..\n",
              "886    0\n",
              "887    1\n",
              "888    0\n",
              "889    1\n",
              "890    0\n",
              "Name: Survived, Length: 891, dtype: int64"
            ]
          },
          "metadata": {
            "tags": []
          },
          "execution_count": 13
        }
      ]
    },
    {
      "cell_type": "code",
      "metadata": {
        "id": "wAO4iUdmYTYq",
        "colab_type": "code",
        "colab": {
          "base_uri": "https://localhost:8080/",
          "height": 51
        },
        "outputId": "a3232b00-4317-4d14-b39a-feee858b61be"
      },
      "source": [
        "from sklearn.metrics import accuracy_score\n",
        "\n",
        "#Separando a base de dados.\n",
        "X_train , X_test , y_train , y_test  =  train_test_split (X, y, test_size = 0.25 , random_state = 0 )\n",
        "\n",
        "#Usando Regressão Logística\n",
        "classifier = LogisticRegression()\n",
        "classifier.fit(X_train, y_train)\n",
        "predict = classifier.predict(X_test)\n",
        "predict_completo = classifier.predict(test[var].fillna(-1))\n",
        "acc_lr = accuracy_score(y_test, predict)\n",
        "#Usando SVC\n",
        "svm = SVC(C = 2, kernel='linear')\n",
        "svm.fit(X_train, y_train)\n",
        "predict_svm = svm.predict(X_test)\n",
        "predict_svm_completo = svm.predict(test[var].fillna(-1))\n",
        "acc_svm = accuracy_score(y_test, predict_svm)\n",
        "\n",
        "print(\"Acc LR:\", acc_lr)\n",
        "print(\"Acc SVM:\", acc_svm)\n"
      ],
      "execution_count": 17,
      "outputs": [
        {
          "output_type": "stream",
          "text": [
            "Acc LR: 0.7937219730941704\n",
            "Acc SVM: 0.7802690582959642\n"
          ],
          "name": "stdout"
        }
      ]
    },
    {
      "cell_type": "code",
      "metadata": {
        "id": "CRGc9WftYTZT",
        "colab_type": "code",
        "colab": {}
      },
      "source": [
        "if (acc_svm >= acc_lr):\n",
        "  sub = pd.Series(predict_svm_completo, index=test['PassengerId'], name='Survived')\n",
        "  sub.shape\n",
        "  sub.to_csv(\"model_SVM.csv\", header=True)\n",
        "else:\n",
        "  sub = pd.Series(predict_completo, index=test['PassengerId'], name='Survived')\n",
        "  sub.shape\n",
        "  sub.to_csv(\"model_LR.csv\", header=True)"
      ],
      "execution_count": 18,
      "outputs": []
    }
  ]
}