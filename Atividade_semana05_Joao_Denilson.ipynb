{
  "nbformat": 4,
  "nbformat_minor": 0,
  "metadata": {
    "colab": {
      "name": "Atividade_semana05_Joao_Denilson.ipynb",
      "provenance": [],
      "collapsed_sections": [],
      "toc_visible": true,
      "include_colab_link": true
    },
    "kernelspec": {
      "name": "python3",
      "display_name": "Python 3"
    }
  },
  "cells": [
    {
      "cell_type": "markdown",
      "metadata": {
        "id": "view-in-github",
        "colab_type": "text"
      },
      "source": [
        "<a href=\"https://colab.research.google.com/github/JoaoDenilson/DataScience-Python/blob/master/Atividade_semana05_Joao_Denilson.ipynb\" target=\"_parent\"><img src=\"https://colab.research.google.com/assets/colab-badge.svg\" alt=\"Open In Colab\"/></a>"
      ]
    },
    {
      "cell_type": "markdown",
      "metadata": {
        "id": "AihuEWVdW8_E",
        "colab_type": "text"
      },
      "source": [
        "#Atividade da semana 05 do curso Data Science com Python\n",
        "### Assunto: Manipulação de dados usando Pandas e NumPy"
      ]
    },
    {
      "cell_type": "code",
      "metadata": {
        "id": "uWJ7k4E0vzls",
        "colab_type": "code",
        "colab": {}
      },
      "source": [
        "#Aluno: João Denílson Souza dos Santos\n",
        "\n",
        "#importando o Pandas e o NumPy\n",
        "import pandas as pd\n",
        "import numpy as np\n",
        "\n",
        "# Importando a função BytesIO da lib io\n",
        "from io import BytesIO\n",
        "\n",
        "# Importanto a lib requests\n",
        "import requests"
      ],
      "execution_count": 0,
      "outputs": []
    },
    {
      "cell_type": "markdown",
      "metadata": {
        "id": "wgQY9LVbEtUY",
        "colab_type": "text"
      },
      "source": [
        "1) Carregue o dataset sobre o COVID-19, disponível nessa URL: https://brasil.io/dataset/covid19/caso_full/?format=csv, em um novo projeto. Utilize o Pandas para fazer essa importação. A fonte dos dados é https://brasil.io/dataset/covid19/caso_full/. Nessa fonte de dados é possível visualizar a descrição de cada coluna (metadados)."
      ]
    },
    {
      "cell_type": "code",
      "metadata": {
        "id": "NFoA5mN4X4Vz",
        "colab_type": "code",
        "outputId": "342abe70-52bc-44a8-a4a8-162594758973",
        "colab": {
          "base_uri": "https://localhost:8080/",
          "height": 609
        }
      },
      "source": [
        "data_csv = \" https://brasil.io/dataset/covid19/caso_full/?format=csv\"\n",
        "data_content = requests.get(data_csv).content\n",
        "# Lendo o CSV (Obs: o retorno é um Data Frame)\n",
        "df_data = pd.read_csv(BytesIO(data_content))\n",
        "df_data"
      ],
      "execution_count": 0,
      "outputs": [
        {
          "output_type": "execute_result",
          "data": {
            "text/html": [
              "<div>\n",
              "<style scoped>\n",
              "    .dataframe tbody tr th:only-of-type {\n",
              "        vertical-align: middle;\n",
              "    }\n",
              "\n",
              "    .dataframe tbody tr th {\n",
              "        vertical-align: top;\n",
              "    }\n",
              "\n",
              "    .dataframe thead th {\n",
              "        text-align: right;\n",
              "    }\n",
              "</style>\n",
              "<table border=\"1\" class=\"dataframe\">\n",
              "  <thead>\n",
              "    <tr style=\"text-align: right;\">\n",
              "      <th></th>\n",
              "      <th>epidemiological_week</th>\n",
              "      <th>date</th>\n",
              "      <th>order_for_place</th>\n",
              "      <th>state</th>\n",
              "      <th>city</th>\n",
              "      <th>city_ibge_code</th>\n",
              "      <th>place_type</th>\n",
              "      <th>last_available_confirmed</th>\n",
              "      <th>last_available_confirmed_per_100k_inhabitants</th>\n",
              "      <th>new_confirmed</th>\n",
              "      <th>last_available_deaths</th>\n",
              "      <th>new_deaths</th>\n",
              "      <th>last_available_death_rate</th>\n",
              "      <th>estimated_population_2019</th>\n",
              "      <th>is_last</th>\n",
              "      <th>is_repeated</th>\n",
              "    </tr>\n",
              "  </thead>\n",
              "  <tbody>\n",
              "    <tr>\n",
              "      <th>0</th>\n",
              "      <td>24</td>\n",
              "      <td>2020-06-13</td>\n",
              "      <td>77</td>\n",
              "      <td>AC</td>\n",
              "      <td>Acrelândia</td>\n",
              "      <td>1200013.0</td>\n",
              "      <td>city</td>\n",
              "      <td>172</td>\n",
              "      <td>1127.42528</td>\n",
              "      <td>0</td>\n",
              "      <td>2</td>\n",
              "      <td>0</td>\n",
              "      <td>0.0116</td>\n",
              "      <td>15256.0</td>\n",
              "      <td>True</td>\n",
              "      <td>False</td>\n",
              "    </tr>\n",
              "    <tr>\n",
              "      <th>1</th>\n",
              "      <td>24</td>\n",
              "      <td>2020-06-13</td>\n",
              "      <td>44</td>\n",
              "      <td>AC</td>\n",
              "      <td>Assis Brasil</td>\n",
              "      <td>1200054.0</td>\n",
              "      <td>city</td>\n",
              "      <td>88</td>\n",
              "      <td>1186.46353</td>\n",
              "      <td>0</td>\n",
              "      <td>5</td>\n",
              "      <td>0</td>\n",
              "      <td>0.0568</td>\n",
              "      <td>7417.0</td>\n",
              "      <td>True</td>\n",
              "      <td>False</td>\n",
              "    </tr>\n",
              "    <tr>\n",
              "      <th>2</th>\n",
              "      <td>24</td>\n",
              "      <td>2020-06-13</td>\n",
              "      <td>36</td>\n",
              "      <td>AC</td>\n",
              "      <td>Brasiléia</td>\n",
              "      <td>1200104.0</td>\n",
              "      <td>city</td>\n",
              "      <td>186</td>\n",
              "      <td>707.81642</td>\n",
              "      <td>0</td>\n",
              "      <td>6</td>\n",
              "      <td>0</td>\n",
              "      <td>0.0323</td>\n",
              "      <td>26278.0</td>\n",
              "      <td>True</td>\n",
              "      <td>False</td>\n",
              "    </tr>\n",
              "    <tr>\n",
              "      <th>3</th>\n",
              "      <td>24</td>\n",
              "      <td>2020-06-13</td>\n",
              "      <td>67</td>\n",
              "      <td>AC</td>\n",
              "      <td>Bujari</td>\n",
              "      <td>1200138.0</td>\n",
              "      <td>city</td>\n",
              "      <td>96</td>\n",
              "      <td>935.12566</td>\n",
              "      <td>3</td>\n",
              "      <td>1</td>\n",
              "      <td>0</td>\n",
              "      <td>0.0104</td>\n",
              "      <td>10266.0</td>\n",
              "      <td>True</td>\n",
              "      <td>False</td>\n",
              "    </tr>\n",
              "    <tr>\n",
              "      <th>4</th>\n",
              "      <td>24</td>\n",
              "      <td>2020-06-13</td>\n",
              "      <td>37</td>\n",
              "      <td>AC</td>\n",
              "      <td>Capixaba</td>\n",
              "      <td>1200179.0</td>\n",
              "      <td>city</td>\n",
              "      <td>95</td>\n",
              "      <td>809.68209</td>\n",
              "      <td>11</td>\n",
              "      <td>2</td>\n",
              "      <td>0</td>\n",
              "      <td>0.0211</td>\n",
              "      <td>11733.0</td>\n",
              "      <td>True</td>\n",
              "      <td>False</td>\n",
              "    </tr>\n",
              "    <tr>\n",
              "      <th>...</th>\n",
              "      <td>...</td>\n",
              "      <td>...</td>\n",
              "      <td>...</td>\n",
              "      <td>...</td>\n",
              "      <td>...</td>\n",
              "      <td>...</td>\n",
              "      <td>...</td>\n",
              "      <td>...</td>\n",
              "      <td>...</td>\n",
              "      <td>...</td>\n",
              "      <td>...</td>\n",
              "      <td>...</td>\n",
              "      <td>...</td>\n",
              "      <td>...</td>\n",
              "      <td>...</td>\n",
              "      <td>...</td>\n",
              "    </tr>\n",
              "    <tr>\n",
              "      <th>204191</th>\n",
              "      <td>9</td>\n",
              "      <td>2020-02-27</td>\n",
              "      <td>3</td>\n",
              "      <td>SP</td>\n",
              "      <td>NaN</td>\n",
              "      <td>35.0</td>\n",
              "      <td>state</td>\n",
              "      <td>1</td>\n",
              "      <td>0.00218</td>\n",
              "      <td>0</td>\n",
              "      <td>0</td>\n",
              "      <td>0</td>\n",
              "      <td>0.0000</td>\n",
              "      <td>45919049.0</td>\n",
              "      <td>False</td>\n",
              "      <td>False</td>\n",
              "    </tr>\n",
              "    <tr>\n",
              "      <th>204192</th>\n",
              "      <td>9</td>\n",
              "      <td>2020-02-26</td>\n",
              "      <td>2</td>\n",
              "      <td>SP</td>\n",
              "      <td>São Paulo</td>\n",
              "      <td>3550308.0</td>\n",
              "      <td>city</td>\n",
              "      <td>1</td>\n",
              "      <td>0.00816</td>\n",
              "      <td>0</td>\n",
              "      <td>0</td>\n",
              "      <td>0</td>\n",
              "      <td>0.0000</td>\n",
              "      <td>12252023.0</td>\n",
              "      <td>False</td>\n",
              "      <td>False</td>\n",
              "    </tr>\n",
              "    <tr>\n",
              "      <th>204193</th>\n",
              "      <td>9</td>\n",
              "      <td>2020-02-26</td>\n",
              "      <td>2</td>\n",
              "      <td>SP</td>\n",
              "      <td>NaN</td>\n",
              "      <td>35.0</td>\n",
              "      <td>state</td>\n",
              "      <td>1</td>\n",
              "      <td>0.00218</td>\n",
              "      <td>0</td>\n",
              "      <td>0</td>\n",
              "      <td>0</td>\n",
              "      <td>0.0000</td>\n",
              "      <td>45919049.0</td>\n",
              "      <td>False</td>\n",
              "      <td>False</td>\n",
              "    </tr>\n",
              "    <tr>\n",
              "      <th>204194</th>\n",
              "      <td>9</td>\n",
              "      <td>2020-02-25</td>\n",
              "      <td>1</td>\n",
              "      <td>SP</td>\n",
              "      <td>São Paulo</td>\n",
              "      <td>3550308.0</td>\n",
              "      <td>city</td>\n",
              "      <td>1</td>\n",
              "      <td>0.00816</td>\n",
              "      <td>1</td>\n",
              "      <td>0</td>\n",
              "      <td>0</td>\n",
              "      <td>0.0000</td>\n",
              "      <td>12252023.0</td>\n",
              "      <td>False</td>\n",
              "      <td>False</td>\n",
              "    </tr>\n",
              "    <tr>\n",
              "      <th>204195</th>\n",
              "      <td>9</td>\n",
              "      <td>2020-02-25</td>\n",
              "      <td>1</td>\n",
              "      <td>SP</td>\n",
              "      <td>NaN</td>\n",
              "      <td>35.0</td>\n",
              "      <td>state</td>\n",
              "      <td>1</td>\n",
              "      <td>0.00218</td>\n",
              "      <td>1</td>\n",
              "      <td>0</td>\n",
              "      <td>0</td>\n",
              "      <td>0.0000</td>\n",
              "      <td>45919049.0</td>\n",
              "      <td>False</td>\n",
              "      <td>False</td>\n",
              "    </tr>\n",
              "  </tbody>\n",
              "</table>\n",
              "<p>204196 rows × 16 columns</p>\n",
              "</div>"
            ],
            "text/plain": [
              "        epidemiological_week        date  ...  is_last is_repeated\n",
              "0                         24  2020-06-13  ...     True       False\n",
              "1                         24  2020-06-13  ...     True       False\n",
              "2                         24  2020-06-13  ...     True       False\n",
              "3                         24  2020-06-13  ...     True       False\n",
              "4                         24  2020-06-13  ...     True       False\n",
              "...                      ...         ...  ...      ...         ...\n",
              "204191                     9  2020-02-27  ...    False       False\n",
              "204192                     9  2020-02-26  ...    False       False\n",
              "204193                     9  2020-02-26  ...    False       False\n",
              "204194                     9  2020-02-25  ...    False       False\n",
              "204195                     9  2020-02-25  ...    False       False\n",
              "\n",
              "[204196 rows x 16 columns]"
            ]
          },
          "metadata": {
            "tags": []
          },
          "execution_count": 11
        }
      ]
    },
    {
      "cell_type": "markdown",
      "metadata": {
        "id": "oDSVU_VHFAyZ",
        "colab_type": "text"
      },
      "source": [
        "2) Qual registro desse dataset possui mais casos de COVID-19? Sugestão: tilize a coluna \"last_available_confirmed\". "
      ]
    },
    {
      "cell_type": "code",
      "metadata": {
        "id": "2AQONSuvX41-",
        "colab_type": "code",
        "outputId": "d0ba60a9-9138-40f7-cd47-f1726ad49195",
        "colab": {
          "base_uri": "https://localhost:8080/",
          "height": 51
        }
      },
      "source": [
        "# Selecionando a coluna last_available_confirmed e buscando o maior valor.\n",
        "df_data[[\"last_available_confirmed\"]].max()"
      ],
      "execution_count": 0,
      "outputs": [
        {
          "output_type": "execute_result",
          "data": {
            "text/plain": [
              "last_available_confirmed    172875\n",
              "dtype: int64"
            ]
          },
          "metadata": {
            "tags": []
          },
          "execution_count": 45
        }
      ]
    },
    {
      "cell_type": "markdown",
      "metadata": {
        "id": "oV49LKVmVyPp",
        "colab_type": "text"
      },
      "source": [
        "3) Quais são as cidades com mais de 100.000 habitantes que possuem menos de 500 casos de COVID-19? Sugestão: utilize a coluna \"is_last\" para verificar se é o último dado registrado, para isso ele deve possui o valor True. Utilize para identificar a população da cidade a coluna ```estimated_population_2019```."
      ]
    },
    {
      "cell_type": "code",
      "metadata": {
        "id": "4RcwlVLlX5V3",
        "colab_type": "code",
        "outputId": "08181d1d-b3df-4ea5-9574-57fd554ddc4b",
        "colab": {
          "base_uri": "https://localhost:8080/",
          "height": 609
        }
      },
      "source": [
        "df_data[((df_data[\"estimated_population_2019\"]>100000 ) & (df_data[\"last_available_confirmed\"] <500)) & (df_data[\"is_last\"] == True)]"
      ],
      "execution_count": 0,
      "outputs": [
        {
          "output_type": "execute_result",
          "data": {
            "text/html": [
              "<div>\n",
              "<style scoped>\n",
              "    .dataframe tbody tr th:only-of-type {\n",
              "        vertical-align: middle;\n",
              "    }\n",
              "\n",
              "    .dataframe tbody tr th {\n",
              "        vertical-align: top;\n",
              "    }\n",
              "\n",
              "    .dataframe thead th {\n",
              "        text-align: right;\n",
              "    }\n",
              "</style>\n",
              "<table border=\"1\" class=\"dataframe\">\n",
              "  <thead>\n",
              "    <tr style=\"text-align: right;\">\n",
              "      <th></th>\n",
              "      <th>epidemiological_week</th>\n",
              "      <th>date</th>\n",
              "      <th>order_for_place</th>\n",
              "      <th>state</th>\n",
              "      <th>city</th>\n",
              "      <th>city_ibge_code</th>\n",
              "      <th>place_type</th>\n",
              "      <th>last_available_confirmed</th>\n",
              "      <th>last_available_confirmed_per_100k_inhabitants</th>\n",
              "      <th>new_confirmed</th>\n",
              "      <th>last_available_deaths</th>\n",
              "      <th>new_deaths</th>\n",
              "      <th>last_available_death_rate</th>\n",
              "      <th>estimated_population_2019</th>\n",
              "      <th>is_last</th>\n",
              "      <th>is_repeated</th>\n",
              "    </tr>\n",
              "  </thead>\n",
              "  <tbody>\n",
              "    <tr>\n",
              "      <th>211</th>\n",
              "      <td>24</td>\n",
              "      <td>2020-06-13</td>\n",
              "      <td>80</td>\n",
              "      <td>BA</td>\n",
              "      <td>Alagoinhas</td>\n",
              "      <td>2900702.0</td>\n",
              "      <td>city</td>\n",
              "      <td>196</td>\n",
              "      <td>129.29101</td>\n",
              "      <td>5</td>\n",
              "      <td>3</td>\n",
              "      <td>0</td>\n",
              "      <td>0.0153</td>\n",
              "      <td>151596.0</td>\n",
              "      <td>True</td>\n",
              "      <td>False</td>\n",
              "    </tr>\n",
              "    <tr>\n",
              "      <th>239</th>\n",
              "      <td>24</td>\n",
              "      <td>2020-06-13</td>\n",
              "      <td>84</td>\n",
              "      <td>BA</td>\n",
              "      <td>Barreiras</td>\n",
              "      <td>2903201.0</td>\n",
              "      <td>city</td>\n",
              "      <td>152</td>\n",
              "      <td>97.78756</td>\n",
              "      <td>12</td>\n",
              "      <td>0</td>\n",
              "      <td>0</td>\n",
              "      <td>0.0000</td>\n",
              "      <td>155439.0</td>\n",
              "      <td>True</td>\n",
              "      <td>False</td>\n",
              "    </tr>\n",
              "    <tr>\n",
              "      <th>319</th>\n",
              "      <td>24</td>\n",
              "      <td>2020-06-13</td>\n",
              "      <td>60</td>\n",
              "      <td>BA</td>\n",
              "      <td>Eunápolis</td>\n",
              "      <td>2910727.0</td>\n",
              "      <td>city</td>\n",
              "      <td>282</td>\n",
              "      <td>248.72111</td>\n",
              "      <td>3</td>\n",
              "      <td>2</td>\n",
              "      <td>0</td>\n",
              "      <td>0.0071</td>\n",
              "      <td>113380.0</td>\n",
              "      <td>True</td>\n",
              "      <td>False</td>\n",
              "    </tr>\n",
              "    <tr>\n",
              "      <th>394</th>\n",
              "      <td>24</td>\n",
              "      <td>2020-06-13</td>\n",
              "      <td>83</td>\n",
              "      <td>BA</td>\n",
              "      <td>Juazeiro</td>\n",
              "      <td>2918407.0</td>\n",
              "      <td>city</td>\n",
              "      <td>168</td>\n",
              "      <td>77.52403</td>\n",
              "      <td>0</td>\n",
              "      <td>6</td>\n",
              "      <td>0</td>\n",
              "      <td>0.0357</td>\n",
              "      <td>216707.0</td>\n",
              "      <td>True</td>\n",
              "      <td>False</td>\n",
              "    </tr>\n",
              "    <tr>\n",
              "      <th>461</th>\n",
              "      <td>24</td>\n",
              "      <td>2020-06-13</td>\n",
              "      <td>54</td>\n",
              "      <td>BA</td>\n",
              "      <td>Paulo Afonso</td>\n",
              "      <td>2924009.0</td>\n",
              "      <td>city</td>\n",
              "      <td>76</td>\n",
              "      <td>64.52599</td>\n",
              "      <td>3</td>\n",
              "      <td>1</td>\n",
              "      <td>0</td>\n",
              "      <td>0.0132</td>\n",
              "      <td>117782.0</td>\n",
              "      <td>True</td>\n",
              "      <td>False</td>\n",
              "    </tr>\n",
              "    <tr>\n",
              "      <th>...</th>\n",
              "      <td>...</td>\n",
              "      <td>...</td>\n",
              "      <td>...</td>\n",
              "      <td>...</td>\n",
              "      <td>...</td>\n",
              "      <td>...</td>\n",
              "      <td>...</td>\n",
              "      <td>...</td>\n",
              "      <td>...</td>\n",
              "      <td>...</td>\n",
              "      <td>...</td>\n",
              "      <td>...</td>\n",
              "      <td>...</td>\n",
              "      <td>...</td>\n",
              "      <td>...</td>\n",
              "      <td>...</td>\n",
              "    </tr>\n",
              "    <tr>\n",
              "      <th>4594</th>\n",
              "      <td>24</td>\n",
              "      <td>2020-06-13</td>\n",
              "      <td>81</td>\n",
              "      <td>SP</td>\n",
              "      <td>Valinhos</td>\n",
              "      <td>3556206.0</td>\n",
              "      <td>city</td>\n",
              "      <td>288</td>\n",
              "      <td>222.92229</td>\n",
              "      <td>12</td>\n",
              "      <td>7</td>\n",
              "      <td>1</td>\n",
              "      <td>0.0243</td>\n",
              "      <td>129193.0</td>\n",
              "      <td>True</td>\n",
              "      <td>False</td>\n",
              "    </tr>\n",
              "    <tr>\n",
              "      <th>4599</th>\n",
              "      <td>24</td>\n",
              "      <td>2020-06-13</td>\n",
              "      <td>61</td>\n",
              "      <td>SP</td>\n",
              "      <td>Várzea Paulista</td>\n",
              "      <td>3556503.0</td>\n",
              "      <td>city</td>\n",
              "      <td>237</td>\n",
              "      <td>194.52059</td>\n",
              "      <td>1</td>\n",
              "      <td>17</td>\n",
              "      <td>0</td>\n",
              "      <td>0.0717</td>\n",
              "      <td>121838.0</td>\n",
              "      <td>True</td>\n",
              "      <td>False</td>\n",
              "    </tr>\n",
              "    <tr>\n",
              "      <th>4603</th>\n",
              "      <td>24</td>\n",
              "      <td>2020-06-13</td>\n",
              "      <td>75</td>\n",
              "      <td>SP</td>\n",
              "      <td>Votorantim</td>\n",
              "      <td>3557006.0</td>\n",
              "      <td>city</td>\n",
              "      <td>232</td>\n",
              "      <td>189.41868</td>\n",
              "      <td>0</td>\n",
              "      <td>12</td>\n",
              "      <td>0</td>\n",
              "      <td>0.0517</td>\n",
              "      <td>122480.0</td>\n",
              "      <td>True</td>\n",
              "      <td>False</td>\n",
              "    </tr>\n",
              "    <tr>\n",
              "      <th>6550</th>\n",
              "      <td>24</td>\n",
              "      <td>2020-06-12</td>\n",
              "      <td>67</td>\n",
              "      <td>MS</td>\n",
              "      <td>Corumbá</td>\n",
              "      <td>5003207.0</td>\n",
              "      <td>city</td>\n",
              "      <td>124</td>\n",
              "      <td>111.27563</td>\n",
              "      <td>3</td>\n",
              "      <td>1</td>\n",
              "      <td>0</td>\n",
              "      <td>0.0081</td>\n",
              "      <td>111435.0</td>\n",
              "      <td>True</td>\n",
              "      <td>False</td>\n",
              "    </tr>\n",
              "    <tr>\n",
              "      <th>6589</th>\n",
              "      <td>24</td>\n",
              "      <td>2020-06-12</td>\n",
              "      <td>73</td>\n",
              "      <td>MS</td>\n",
              "      <td>Três Lagoas</td>\n",
              "      <td>5008305.0</td>\n",
              "      <td>city</td>\n",
              "      <td>170</td>\n",
              "      <td>140.04679</td>\n",
              "      <td>3</td>\n",
              "      <td>5</td>\n",
              "      <td>0</td>\n",
              "      <td>0.0294</td>\n",
              "      <td>121388.0</td>\n",
              "      <td>True</td>\n",
              "      <td>False</td>\n",
              "    </tr>\n",
              "  </tbody>\n",
              "</table>\n",
              "<p>166 rows × 16 columns</p>\n",
              "</div>"
            ],
            "text/plain": [
              "      epidemiological_week        date  ...  is_last is_repeated\n",
              "211                     24  2020-06-13  ...     True       False\n",
              "239                     24  2020-06-13  ...     True       False\n",
              "319                     24  2020-06-13  ...     True       False\n",
              "394                     24  2020-06-13  ...     True       False\n",
              "461                     24  2020-06-13  ...     True       False\n",
              "...                    ...         ...  ...      ...         ...\n",
              "4594                    24  2020-06-13  ...     True       False\n",
              "4599                    24  2020-06-13  ...     True       False\n",
              "4603                    24  2020-06-13  ...     True       False\n",
              "6550                    24  2020-06-12  ...     True       False\n",
              "6589                    24  2020-06-12  ...     True       False\n",
              "\n",
              "[166 rows x 16 columns]"
            ]
          },
          "metadata": {
            "tags": []
          },
          "execution_count": 13
        }
      ]
    },
    {
      "cell_type": "markdown",
      "metadata": {
        "id": "jEut_U1dJMtc",
        "colab_type": "text"
      },
      "source": [
        "4) Quantos casos de COVID-19 a cidade de Fortaleza possui? Sugestão: utilize a coluna \"is_last\" para verificar se é o último dado registrado, para isso ele deve possui o valor True."
      ]
    },
    {
      "cell_type": "code",
      "metadata": {
        "id": "wVwP_ThrX53E",
        "colab_type": "code",
        "outputId": "7966423d-4d92-4207-f027-6f90602644c7",
        "colab": {
          "base_uri": "https://localhost:8080/",
          "height": 51
        }
      },
      "source": [
        "df_result = df_data[(df_data[\"is_last\"] == True) & (df_data[\"city\"] == \"Fortaleza\")]\n",
        "df_result[[\"last_available_confirmed\"]].head().max()"
      ],
      "execution_count": 0,
      "outputs": [
        {
          "output_type": "execute_result",
          "data": {
            "text/plain": [
              "last_available_confirmed    30210\n",
              "dtype: int64"
            ]
          },
          "metadata": {
            "tags": []
          },
          "execution_count": 14
        }
      ]
    },
    {
      "cell_type": "markdown",
      "metadata": {
        "id": "TQ3PqOROJhEu",
        "colab_type": "text"
      },
      "source": [
        "5) Com exceção da cidade Fortaleza, qual é a média de casos e de óbtos ocasionados pelo COVID-19 nas demais cidades do Ceará? Sugestão: use as colunas \"last_available_deaths\" e \"last_available_confirmed\". OBS.: o sinal de diferença é ```!=```."
      ]
    },
    {
      "cell_type": "code",
      "metadata": {
        "id": "xAgrm5GNX6Tv",
        "colab_type": "code",
        "outputId": "fd2bd40d-839f-4e97-8506-7c142805eadf",
        "colab": {
          "base_uri": "https://localhost:8080/",
          "height": 34
        }
      },
      "source": [
        "#Media dos casos no ceará com exceção de Fortaleza\n",
        "data_result_media = df_data[((df_data[\"is_last\"])==True) & ((df_data[\"city\"]) !=\"Fortaleza\") & ((df_data[\"state\"]) ==\"CE\")]\n",
        "data_media_casos = data_result_media[\"last_available_confirmed\"]\n",
        "data_media_obitos = data_result_media[\"last_available_deaths\"]\n",
        "\n",
        "#Media dos casos\n",
        "data_media_casos.mean()"
      ],
      "execution_count": 0,
      "outputs": [
        {
          "output_type": "execute_result",
          "data": {
            "text/plain": [
              "663.0597826086956"
            ]
          },
          "metadata": {
            "tags": []
          },
          "execution_count": 16
        }
      ]
    },
    {
      "cell_type": "code",
      "metadata": {
        "id": "X4Vporxvr0M2",
        "colab_type": "code",
        "outputId": "e94031dc-854c-4dc3-d67f-4eb34acb15c9",
        "colab": {
          "base_uri": "https://localhost:8080/",
          "height": 34
        }
      },
      "source": [
        "#Media dos Óbitos\n",
        "data_media_obitos.mean()"
      ],
      "execution_count": 0,
      "outputs": [
        {
          "output_type": "execute_result",
          "data": {
            "text/plain": [
              "36.91847826086956"
            ]
          },
          "metadata": {
            "tags": []
          },
          "execution_count": 17
        }
      ]
    },
    {
      "cell_type": "markdown",
      "metadata": {
        "id": "WDZJRP-0KAW9",
        "colab_type": "text"
      },
      "source": [
        "6) Importe o NumPy e, usando esta biblioteca, crie uma matriz bidimencional contendo a quantidade de casos e a quantidade de óbitos de cada cidade do ceará, exceto a cidade de Fortaleza. "
      ]
    },
    {
      "cell_type": "code",
      "metadata": {
        "id": "5vrfuKnxX6xL",
        "colab_type": "code",
        "outputId": "5a8b60c9-1b6e-42f0-91d9-798bfcfcd1e4",
        "colab": {
          "base_uri": "https://localhost:8080/",
          "height": 1000
        }
      },
      "source": [
        "Matriz = np.array([data_media_casos,data_media_obitos]).T\n",
        "Matriz"
      ],
      "execution_count": 0,
      "outputs": [
        {
          "output_type": "execute_result",
          "data": {
            "text/plain": [
              "array([[    7,     1],\n",
              "       [  190,     9],\n",
              "       [ 1047,    28],\n",
              "       [  156,    10],\n",
              "       [    7,     0],\n",
              "       [  125,     2],\n",
              "       [    1,     0],\n",
              "       [   50,     3],\n",
              "       [  358,    12],\n",
              "       [    6,     0],\n",
              "       [   96,     8],\n",
              "       [  490,    17],\n",
              "       [  531,    24],\n",
              "       [  283,     1],\n",
              "       [    3,     1],\n",
              "       [   15,     0],\n",
              "       [   53,     1],\n",
              "       [   27,     0],\n",
              "       [   19,     2],\n",
              "       [   12,     1],\n",
              "       [    2,     0],\n",
              "       [  112,     1],\n",
              "       [  112,     2],\n",
              "       [  154,    12],\n",
              "       [   16,     2],\n",
              "       [  266,     6],\n",
              "       [  187,    19],\n",
              "       [  225,    18],\n",
              "       [  524,     7],\n",
              "       [   68,     9],\n",
              "       [   92,     3],\n",
              "       [  690,    32],\n",
              "       [   80,     1],\n",
              "       [  785,    24],\n",
              "       [  238,     6],\n",
              "       [  132,    11],\n",
              "       [  150,     3],\n",
              "       [   28,     3],\n",
              "       [   36,     2],\n",
              "       [   57,     1],\n",
              "       [  768,    43],\n",
              "       [   21,     1],\n",
              "       [   40,     1],\n",
              "       [ 2933,   228],\n",
              "       [   26,     2],\n",
              "       [  150,     3],\n",
              "       [  131,     3],\n",
              "       [  225,     9],\n",
              "       [  284,     3],\n",
              "       [  346,    10],\n",
              "       [  140,     4],\n",
              "       [   17,     0],\n",
              "       [  342,     6],\n",
              "       [    6,     0],\n",
              "       [   34,     4],\n",
              "       [ 1025,    24],\n",
              "       [   77,     3],\n",
              "       [   67,     4],\n",
              "       [   56,     0],\n",
              "       [   62,     3],\n",
              "       [   30,     4],\n",
              "       [   76,     1],\n",
              "       [  271,    10],\n",
              "       [  139,     2],\n",
              "       [  174,    16],\n",
              "       [   95,     4],\n",
              "       [   21,     0],\n",
              "       [   38,     4],\n",
              "       [  673,    33],\n",
              "       [   14,     4],\n",
              "       [   68,     2],\n",
              "       [  147,     5],\n",
              "       [  145,     5],\n",
              "       [  111,     3],\n",
              "       [  336,    18],\n",
              "       [ 1758,     0],\n",
              "       [   49,     4],\n",
              "       [   60,     0],\n",
              "       [   10,     1],\n",
              "       [   50,     4],\n",
              "       [  119,     4],\n",
              "       [   21,     1],\n",
              "       [  103,     8],\n",
              "       [   71,     5],\n",
              "       [  382,    22],\n",
              "       [  442,    31],\n",
              "       [ 1313,    68],\n",
              "       [   91,     3],\n",
              "       [  924,    13],\n",
              "       [  365,     9],\n",
              "       [   57,     2],\n",
              "       [   68,     1],\n",
              "       [  163,     9],\n",
              "       [  136,     4],\n",
              "       [   10,     1],\n",
              "       [    5,     1],\n",
              "       [  166,     5],\n",
              "       [  635,    32],\n",
              "       [   24,     2],\n",
              "       [   32,     1],\n",
              "       [  365,    14],\n",
              "       [  118,     5],\n",
              "       [ 2643,   177],\n",
              "       [ 1134,    65],\n",
              "       [  120,     7],\n",
              "       [   16,     0],\n",
              "       [  552,    25],\n",
              "       [  133,     7],\n",
              "       [  101,     5],\n",
              "       [   29,     2],\n",
              "       [   47,     2],\n",
              "       [   77,     5],\n",
              "       [   74,     1],\n",
              "       [  121,     6],\n",
              "       [   62,     3],\n",
              "       [  723,     8],\n",
              "       [  155,     2],\n",
              "       [  183,     6],\n",
              "       [  121,     1],\n",
              "       [   28,     3],\n",
              "       [   12,     0],\n",
              "       [   96,     9],\n",
              "       [   19,     3],\n",
              "       [  179,     7],\n",
              "       [   94,     1],\n",
              "       [  458,    19],\n",
              "       [  778,    55],\n",
              "       [   76,     3],\n",
              "       [   34,     0],\n",
              "       [   28,     1],\n",
              "       [  118,     3],\n",
              "       [  263,    19],\n",
              "       [  255,    17],\n",
              "       [  102,     8],\n",
              "       [   52,     1],\n",
              "       [   53,     5],\n",
              "       [    7,     2],\n",
              "       [  321,    19],\n",
              "       [   18,     0],\n",
              "       [  217,    10],\n",
              "       [    9,     0],\n",
              "       [    6,     0],\n",
              "       [   21,     0],\n",
              "       [    8,     1],\n",
              "       [   45,     0],\n",
              "       [   14,     0],\n",
              "       [   41,     2],\n",
              "       [ 1189,    29],\n",
              "       [   46,     1],\n",
              "       [  434,    19],\n",
              "       [  119,     5],\n",
              "       [  450,    14],\n",
              "       [   39,     4],\n",
              "       [  394,    15],\n",
              "       [    9,     0],\n",
              "       [   23,     1],\n",
              "       [   47,    12],\n",
              "       [   62,     2],\n",
              "       [  372,    14],\n",
              "       [   50,     0],\n",
              "       [ 1188,    25],\n",
              "       [   59,     1],\n",
              "       [   93,     6],\n",
              "       [   37,     0],\n",
              "       [  150,     1],\n",
              "       [ 3752,   162],\n",
              "       [   61,     1],\n",
              "       [  288,     4],\n",
              "       [   52,     1],\n",
              "       [   16,     1],\n",
              "       [  308,     8],\n",
              "       [  158,     8],\n",
              "       [  535,    22],\n",
              "       [  347,    27],\n",
              "       [  152,    14],\n",
              "       [  276,     8],\n",
              "       [   12,     0],\n",
              "       [  143,    16],\n",
              "       [  404,    12],\n",
              "       [   74,     1],\n",
              "       [   49,     4],\n",
              "       [  135,     5],\n",
              "       [  353,    17],\n",
              "       [76429,  4829]])"
            ]
          },
          "metadata": {
            "tags": []
          },
          "execution_count": 20
        }
      ]
    },
    {
      "cell_type": "markdown",
      "metadata": {
        "id": "VJIpG5PLTfEQ",
        "colab_type": "text"
      },
      "source": [
        "7) Calcule o desvio padrão e a variância dos **casos confirmados** de COVID-19 sobre o conjunto de dados criado na questão 5."
      ]
    },
    {
      "cell_type": "code",
      "metadata": {
        "id": "ODnai37YX7R7",
        "colab_type": "code",
        "outputId": "e24903ad-9867-4c20-9f70-1f4fa8edd158",
        "colab": {
          "base_uri": "https://localhost:8080/",
          "height": 34
        }
      },
      "source": [
        "Des_padrao_casos = np.std(data_media_casos)\n",
        "Variancia_casos = np.var(data_media_casos)\n",
        "#Desvio padrão\n",
        "Des_padrao_casos"
      ],
      "execution_count": 0,
      "outputs": [
        {
          "output_type": "execute_result",
          "data": {
            "text/plain": [
              "5619.999844471602"
            ]
          },
          "metadata": {
            "tags": []
          },
          "execution_count": 24
        }
      ]
    },
    {
      "cell_type": "code",
      "metadata": {
        "id": "wPyAg6mLtJIG",
        "colab_type": "code",
        "outputId": "59ba569d-71a0-4010-eb31-c7f7f65409f7",
        "colab": {
          "base_uri": "https://localhost:8080/",
          "height": 34
        }
      },
      "source": [
        "#Variancia\n",
        "Variancia_casos"
      ],
      "execution_count": 0,
      "outputs": [
        {
          "output_type": "execute_result",
          "data": {
            "text/plain": [
              "31584398.25186083"
            ]
          },
          "metadata": {
            "tags": []
          },
          "execution_count": 25
        }
      ]
    },
    {
      "cell_type": "markdown",
      "metadata": {
        "id": "nKLlknROTrsG",
        "colab_type": "text"
      },
      "source": [
        "8) Calcule o desvio padrão e a variância dos **óbitos** de COVID-19 sobre o conjunto de dados criado na questão 5."
      ]
    },
    {
      "cell_type": "code",
      "metadata": {
        "id": "3de19Rd_X7y_",
        "colab_type": "code",
        "outputId": "1c1d5176-5f84-4dc1-f91b-1cca738df061",
        "colab": {
          "base_uri": "https://localhost:8080/",
          "height": 34
        }
      },
      "source": [
        "Des_padrao_obitos = np.std(data_media_obitos)\n",
        "Variancia_obitos = np.var(data_media_obitos)\n",
        "#Desvio padrão\n",
        "Des_padrao_obitos"
      ],
      "execution_count": 0,
      "outputs": [
        {
          "output_type": "execute_result",
          "data": {
            "text/plain": [
              "355.16604947831394"
            ]
          },
          "metadata": {
            "tags": []
          },
          "execution_count": 26
        }
      ]
    },
    {
      "cell_type": "code",
      "metadata": {
        "id": "8NKv__k7tyH2",
        "colab_type": "code",
        "outputId": "87113558-e358-4cd9-cd36-6b15c29891c8",
        "colab": {
          "base_uri": "https://localhost:8080/",
          "height": 34
        }
      },
      "source": [
        "#Variancia\n",
        "Variancia_obitos"
      ],
      "execution_count": 0,
      "outputs": [
        {
          "output_type": "execute_result",
          "data": {
            "text/plain": [
              "126142.92270203213"
            ]
          },
          "metadata": {
            "tags": []
          },
          "execution_count": 27
        }
      ]
    }
  ]
}