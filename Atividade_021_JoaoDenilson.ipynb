{
  "nbformat": 4,
  "nbformat_minor": 0,
  "metadata": {
    "kernelspec": {
      "display_name": "Python 3",
      "language": "python",
      "name": "python3"
    },
    "language_info": {
      "name": "python",
      "version": "3.7.6",
      "mimetype": "text/x-python",
      "codemirror_mode": {
        "name": "ipython",
        "version": 3
      },
      "pygments_lexer": "ipython3",
      "nbconvert_exporter": "python",
      "file_extension": ".py"
    },
    "colab": {
      "name": "Atividade_021_JoaoDenilson.ipynb",
      "provenance": [],
      "collapsed_sections": [],
      "include_colab_link": true
    }
  },
  "cells": [
    {
      "cell_type": "markdown",
      "metadata": {
        "id": "view-in-github",
        "colab_type": "text"
      },
      "source": [
        "<a href=\"https://colab.research.google.com/github/JoaoDenilson/DataScience-Python/blob/master/Atividade_021_JoaoDenilson.ipynb\" target=\"_parent\"><img src=\"https://colab.research.google.com/assets/colab-badge.svg\" alt=\"Open In Colab\"/></a>"
      ]
    },
    {
      "cell_type": "markdown",
      "metadata": {
        "id": "rUqbsRWJYHZ7",
        "colab_type": "text"
      },
      "source": [
        "\n",
        "# <font color='blue'>Curso FIC - Data Science com Python -\n",
        "</font>\n",
        "\n",
        "## Atividade: Condicionais, Estruturas de Repetição e Funções "
      ]
    },
    {
      "cell_type": "markdown",
      "metadata": {
        "id": "URLPHe4DYHaN",
        "colab_type": "text"
      },
      "source": [
        "## Lista de Exercícios II"
      ]
    },
    {
      "cell_type": "markdown",
      "metadata": {
        "id": "gZkQT5s-stAd",
        "colab_type": "text"
      },
      "source": [
        "#Condicionais e Repetição"
      ]
    },
    {
      "cell_type": "code",
      "metadata": {
        "id": "88iP_3k-YHaO",
        "colab_type": "code",
        "colab": {}
      },
      "source": [
        "# Exercício 1 - Construa uma lista de 6 alimentos e verifique se o alimento 'Arroz' consta nesta lista\n",
        "lista = [\"Cuscuz\", \"Arroz\",\"Feijão\", \"Carne\", \"Milho\", \"Farinha\"]\n",
        "for x in lista:\n",
        "  if 'Arroz' in x:\n",
        "      print(\"Está na lista.\")"
      ],
      "execution_count": 0,
      "outputs": []
    },
    {
      "cell_type": "code",
      "metadata": {
        "id": "8m9NYfHeYHaZ",
        "colab_type": "code",
        "colab": {}
      },
      "source": [
        "# Exercício 2 - Construa uma tupla com 3 elementos, multiplique cada elemento da tupla por 4 e armazene os resultados em uma\n",
        "# lista\n",
        "tupla = (2,3,4)\n",
        "lista = []\n",
        "for x in tupla:\n",
        "  lista.append(x*4)\n",
        "print(\"Lista: \",lista)"
      ],
      "execution_count": 0,
      "outputs": []
    },
    {
      "cell_type": "code",
      "metadata": {
        "id": "SlrPfDhcYHaj",
        "colab_type": "code",
        "colab": {}
      },
      "source": [
        "# Exercício 3 - Construa uma sequência de números pares entre 50 e 140 e apresente na tela\n",
        "for x in range(50,141):\n",
        "  if(x%2 == 0):\n",
        "    print(x) "
      ],
      "execution_count": 0,
      "outputs": []
    },
    {
      "cell_type": "code",
      "metadata": {
        "id": "59L5p-myYHau",
        "colab_type": "code",
        "colab": {}
      },
      "source": [
        "# Exercício 4 - Construa uma lista a partir de uma função range: range(4, 35, 3)\n",
        "lista_func = []\n",
        "for x in range(4,35,3):\n",
        "  lista_func.append(x)\n",
        "print(lista_func)\n"
      ],
      "execution_count": 0,
      "outputs": []
    },
    {
      "cell_type": "markdown",
      "metadata": {
        "id": "McLKhorb95CF",
        "colab_type": "text"
      },
      "source": [
        "###Funções"
      ]
    },
    {
      "cell_type": "code",
      "metadata": {
        "id": "pG6W2vCRCKgD",
        "colab_type": "code",
        "colab": {}
      },
      "source": [
        "# Exercício 5 - Construa uma função que receba como parâmetro uma lista com 5 elementos, adicione 2 elementos a essa lista e \n",
        "# apresente a lista\n",
        "def lista_a(lista_b):\n",
        "    x = 6\n",
        "    y = 7\n",
        "    lista_b.append(x)\n",
        "    lista_b.append(y)\n",
        "    print(lista_b)\n",
        "\n",
        "lista_b = [1,2,3,4,5]\n",
        "lista_a(lista_b)\n",
        "\n"
      ],
      "execution_count": 0,
      "outputs": []
    },
    {
      "cell_type": "code",
      "metadata": {
        "id": "hU2ySV9j9gwU",
        "colab_type": "code",
        "colab": {}
      },
      "source": [
        "# Exercício 6\n",
        "# Calculadora simples em Python utilizando funções\n",
        "# Abaixo é apresentada uma pré-construção do código. Considerando os conceitos\n",
        "# vistos até o momento, conclua a implementação do referido código. \n",
        "# Fique a vontade para inserir recusos adicionais e assim enriquecer a sua calculadora.  \n",
        "def soma():\n",
        "    x = float(input(\"Digite o 1° valor: \"))\n",
        "    y = float(input(\"Digite o 2° valor: \"))\n",
        "    r = x+y\n",
        "    print(\"A soma dos valores é: \", r)\n",
        "    if r%2==1:\n",
        "        print(\"primo\")\n",
        "    else:\n",
        "        print(\"não primo\")\n",
        "\n",
        "def subtracao():\n",
        "    x = float(input(\"Digite o 1° valor: \"))\n",
        "    y = float(input(\"Digite o 2° valor: \"))\n",
        "    print(\"A subtracao dos valores é: \", x - y) \n",
        "    pass\n",
        "\n",
        "def multiplicacao():\n",
        "    x = float(input(\"Digite o 1° valor: \"))\n",
        "    y = float(input(\"Digite o 2° valor: \"))\n",
        "    print(\"A multiplicacao dos valores informados: \", x * y) \n",
        "    pass\n",
        "\n",
        "def divisao():  \n",
        "    x = float(input(\"Digite o 1° valor: \"))\n",
        "    y = float(input(\"Digite o 2° valor: \"))\n",
        "    if(y>0):\n",
        "       print(\"A divisao dos valores informados: \", x / y) \n",
        "    else:\n",
        "      print(\"valor é 0, pois não divide numero por 0\")\n",
        "    pass\n",
        "\n",
        "# Bloco de reptetição \n",
        "opcao=1\n",
        "while opcao:\n",
        "    print(\"0. Para sair do programa\") \n",
        "    print(\"1. Para soma\")\n",
        "    print(\"2. Para subtracao\")\n",
        "    print(\"3. Para multiplicacao\")\n",
        "    print(\"4. Para divisao\")\n",
        "\n",
        "\n",
        "    opcao = int(input(\"Qual operação deseja realizar: \"))\n",
        "\n",
        "# Testes condicionais \n",
        "    if(opcao == 1):\n",
        "        soma()\n",
        "    if(opcao == 2):\n",
        "       subtracao()\n",
        "    if(opcao == 3):\n",
        "      multiplicacao()\n",
        "    if(opcao == 4):\n",
        "      divisao()\n",
        "    if(opcao == 0):\n",
        "       opcao = 0\n",
        "    \n"
      ],
      "execution_count": 0,
      "outputs": []
    },
    {
      "cell_type": "code",
      "metadata": {
        "id": "WOoaq6KfYHa6",
        "colab_type": "code",
        "colab": {}
      },
      "source": [
        "# Exercício 7\n",
        "# Construa um dicionário e apresente todos os métodos e atributos desse dicionário\n",
        "dicinario_a = {\"carro\": 30.00, \"moto\": 5.50}\n",
        "\n",
        "discionario_b = {\"Cuscuz\": 3.50, \"Carne\": 18.90, \"Feijão\": 4.69, \"Gás\": 80.00}\n",
        "\n",
        "print(len(discionario_b))\n",
        "print(discionario_b.keys())\n",
        "print(discionario_b.values())\n",
        "print(discionario_b.items())\n",
        "discionario_b.clear()\n",
        "print(discionario_b)\n",
        "print(\"Tamanho:\",len(discionario_b))\n",
        "\n",
        "discionario_r.update(dicinario_a)\n",
        "print(discionario_b)\n",
        "print(\"Tamanho:\",len(discionario_b))"
      ],
      "execution_count": 0,
      "outputs": []
    },
    {
      "cell_type": "markdown",
      "metadata": {
        "id": "q9M90fHAYHbg",
        "colab_type": "text"
      },
      "source": [
        "# Fim"
      ]
    },
    {
      "cell_type": "markdown",
      "metadata": {
        "id": "rHBi6fb6YHbh",
        "colab_type": "text"
      },
      "source": [
        "###Obrigado - Data Science com Python - <a href=\"http://web.ficemcasa.ifce.edu.br/\">web.ficemcasa.ifce.edu.br</a>"
      ]
    }
  ]
}