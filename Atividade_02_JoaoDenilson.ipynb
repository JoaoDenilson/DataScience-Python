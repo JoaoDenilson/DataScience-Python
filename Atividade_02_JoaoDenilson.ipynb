{
  "nbformat": 4,
  "nbformat_minor": 0,
  "metadata": {
    "kernelspec": {
      "display_name": "Python 3",
      "language": "python",
      "name": "python3"
    },
    "language_info": {
      "name": "python",
      "version": "3.7.6",
      "mimetype": "text/x-python",
      "codemirror_mode": {
        "name": "ipython",
        "version": 3
      },
      "pygments_lexer": "ipython3",
      "nbconvert_exporter": "python",
      "file_extension": ".py"
    },
    "colab": {
      "name": "Atividade_02_JoaoDenilson.ipynb",
      "provenance": [],
      "include_colab_link": true
    }
  },
  "cells": [
    {
      "cell_type": "markdown",
      "metadata": {
        "id": "view-in-github",
        "colab_type": "text"
      },
      "source": [
        "<a href=\"https://colab.research.google.com/github/JoaoDenilson/DataScience-Python/blob/master/Atividade_02_JoaoDenilson.ipynb\" target=\"_parent\"><img src=\"https://colab.research.google.com/assets/colab-badge.svg\" alt=\"Open In Colab\"/></a>"
      ]
    },
    {
      "cell_type": "markdown",
      "metadata": {
        "id": "rUqbsRWJYHZ7",
        "colab_type": "text"
      },
      "source": [
        "\n",
        "# <font color='blue'>Curso FIC - Data Science com Python -\n",
        "</font>\n",
        "\n",
        "## Atividade tipos básicos Python"
      ]
    },
    {
      "cell_type": "markdown",
      "metadata": {
        "id": "URLPHe4DYHaN",
        "colab_type": "text"
      },
      "source": [
        "## Lista de Exercícios I"
      ]
    },
    {
      "cell_type": "code",
      "metadata": {
        "id": "88iP_3k-YHaO",
        "colab_type": "code",
        "outputId": "267390ad-ab70-485e-c876-668a10bbb270",
        "trusted": true,
        "colab": {
          "base_uri": "https://localhost:8080/",
          "height": 204
        }
      },
      "source": [
        "# Exercício 1 - Apresente na tela os números de 1 a 10. Crie uma lista para armazenar esses números.\n",
        "numeros = []\n",
        "for x in range(1,11):\n",
        "  print(x)\n",
        "  numeros.append(x)\n",
        "print(numeros)"
      ],
      "execution_count": 0,
      "outputs": [
        {
          "output_type": "stream",
          "text": [
            "1\n",
            "2\n",
            "3\n",
            "4\n",
            "5\n",
            "6\n",
            "7\n",
            "8\n",
            "9\n",
            "10\n",
            "[1, 2, 3, 4, 5, 6, 7, 8, 9, 10]\n"
          ],
          "name": "stdout"
        }
      ]
    },
    {
      "cell_type": "code",
      "metadata": {
        "id": "8m9NYfHeYHaZ",
        "colab_type": "code",
        "trusted": true,
        "colab": {},
        "outputId": "e828cb16-3043-4a86-f7d8-7338707c651f"
      },
      "source": [
        "# Exercício 2 - Crie uma lista de 5 objetos e apresente na tela.\n",
        "veiculos = [\"moto\", \"carro\", \"onibus\", \"caminhao\", \"trem\"]\n",
        "for x in veiculos:\n",
        "  print(x)\n"
      ],
      "execution_count": 0,
      "outputs": [
        {
          "output_type": "stream",
          "text": [
            "moto\n",
            "carro\n",
            "onibus\n",
            "caminhao\n",
            "trem\n"
          ],
          "name": "stdout"
        }
      ]
    },
    {
      "cell_type": "code",
      "metadata": {
        "id": "SlrPfDhcYHaj",
        "colab_type": "code",
        "trusted": true,
        "colab": {},
        "outputId": "316e2245-7f5a-42ce-d441-a75d64836121"
      },
      "source": [
        "# Exercício 3 - Crie três strings e concatene as três em uma quarta string\n",
        "str1 = 'João'\n",
        "str2 = 'Denilson'\n",
        "str3 = 'Santos'\n",
        "\n",
        "str4 = str1+' '+str2+' '+str3\n",
        "print(str4)"
      ],
      "execution_count": 0,
      "outputs": [
        {
          "output_type": "stream",
          "text": [
            "João Denilson Santos\n"
          ],
          "name": "stdout"
        }
      ]
    },
    {
      "cell_type": "code",
      "metadata": {
        "id": "59L5p-myYHau",
        "colab_type": "code",
        "trusted": true,
        "colab": {},
        "outputId": "a34c495c-7563-4bfc-ac40-bddedf6a9cba"
      },
      "source": [
        "# Exercício 4 - Crie uma tupla com os seguintes elementos: 1, 1, 1, 2, 2, 3, 3, 3, 4, 5, 5, 6 e depois utilize a função count do \n",
        "# objeto tupla para verificar quantas vezes o número 3 aparece na tupla\n",
        "tupla = (1, 1, 1, 2, 2, 3, 3, 3, 4, 5, 5, 6)\n",
        "count = tupla.count(3)\n",
        "print(count)"
      ],
      "execution_count": 0,
      "outputs": [
        {
          "output_type": "stream",
          "text": [
            "3\n"
          ],
          "name": "stdout"
        }
      ]
    },
    {
      "cell_type": "code",
      "metadata": {
        "id": "WOoaq6KfYHa6",
        "colab_type": "code",
        "trusted": true,
        "colab": {},
        "outputId": "ae4f2540-30c6-4bd4-879f-48e43eaca8c8"
      },
      "source": [
        "# Exercício 5 - Crie um dicionário sem valores e em seguida apresente na tela.\n",
        "dicionario = {}\n",
        "print(dicionario)"
      ],
      "execution_count": 0,
      "outputs": [
        {
          "output_type": "stream",
          "text": [
            "{}\n"
          ],
          "name": "stdout"
        }
      ]
    },
    {
      "cell_type": "code",
      "metadata": {
        "id": "ElqsPWP2YHbA",
        "colab_type": "code",
        "trusted": true,
        "colab": {},
        "outputId": "8bed36b8-f704-42f1-cb7e-3cb2b02a39b8"
      },
      "source": [
        "# Exercício 6 - Crie um dicionário contendo as seguintes informações: 3 chaves e 3 valores. Após a criação exiba esse dicionário na tela.\n",
        "dicionario = {\"veiculo\": \"moto\", \"Dono\": \"Joao Denilson\", \"rodas\": 2 }\n",
        "print(\"Dicionário:\",dicionario)"
      ],
      "execution_count": 0,
      "outputs": [
        {
          "output_type": "stream",
          "text": [
            "Dicionário: {'veiculo': 'moto', 'Dono': 'Joao Denilson', 'rodas': 2}\n"
          ],
          "name": "stdout"
        }
      ]
    },
    {
      "cell_type": "code",
      "metadata": {
        "id": "uEXB3eM6YHbM",
        "colab_type": "code",
        "trusted": true,
        "colab": {},
        "outputId": "6f8974a1-46bf-4da5-8382-6529f58c4e73"
      },
      "source": [
        "# Exercício 7 - Adicione mais dois elemento ao dicionário criado no Exercício 6 e exiba na tela.\n",
        "update_dic = {\"cidade\": \"Cedro-CE\"}\n",
        "dicionario.update(update_dic)\n",
        "print(\"Update dicionario\",dicionario)"
      ],
      "execution_count": 0,
      "outputs": [
        {
          "output_type": "stream",
          "text": [
            "Update dicionario {'veiculo': 'moto', 'Dono': 'Joao Denilson', 'rodas': 2, 'cidade': 'Cedro-CE'}\n"
          ],
          "name": "stdout"
        }
      ]
    },
    {
      "cell_type": "code",
      "metadata": {
        "id": "hP0EqGsXYHbR",
        "colab_type": "code",
        "trusted": true,
        "colab": {},
        "outputId": "c00dfa5a-eb40-433a-81af-656d4a0cc639"
      },
      "source": [
        "# Exercício 8 - Crie um dicionário com 4 chaves e 4 valores. Um dos valores deve ser uma lista de 3 elementos numéricos. \n",
        "# Exiba o dicionário na tela.\n",
        "list_Numeros =[1,2,3]\n",
        "discionario2 = {\"animal\": \"cobra\", \"espécie\": \"réptil\", \"venenosa\": \"sim\", \"numeros\": list_Numeros \n",
        "            }\n",
        "print(discionario2)"
      ],
      "execution_count": 0,
      "outputs": [
        {
          "output_type": "stream",
          "text": [
            "{'animal': 'cobra', 'espécie': 'réptil', 'venenosa': 'sim', 'numeros': [1, 2, 3]}\n"
          ],
          "name": "stdout"
        }
      ]
    },
    {
      "cell_type": "code",
      "metadata": {
        "id": "89G2i9J2YHbV",
        "colab_type": "code",
        "trusted": true,
        "colab": {},
        "outputId": "526aee35-f400-42bf-8b73-391e6c148d3c"
      },
      "source": [
        "# Exercício 9 - Crie uma lista de 5 elementos. O primeiro elemento deve ser uma string, \n",
        "# o segundo uma tupla de 3 elementos, o terceiro um dicionário com 3 chaves e 3 valores \n",
        "# o quarto elemento um valor do tipo float.\n",
        "# e o quinto elemento um valor do tipo inteiro.\n",
        "# Exiba a lista na tela.\n",
        "\n",
        "tupla = (1,2,3)\n",
        "discionario = {\"mora: \": \"no Brasil\",\n",
        "              \"estado\": \"do Ceara\", \n",
        "              \"municipio\": \" de Cedro\"}\n",
        "lista = [\"joao\", tupla, discionario, 2.2, 8]\n",
        "print(lista)"
      ],
      "execution_count": 0,
      "outputs": [
        {
          "output_type": "stream",
          "text": [
            "['joao', (1, 2, 3), {'mora: ': 'no Brasil', 'estado': 'do Ceara', 'municipio': ' de Cedro'}, 2.2, 8]\n"
          ],
          "name": "stdout"
        }
      ]
    },
    {
      "cell_type": "code",
      "metadata": {
        "id": "Ve-eryrOYHba",
        "colab_type": "code",
        "trusted": true,
        "colab": {},
        "outputId": "553c4788-366c-42a0-fe2a-9bd61782cb6d"
      },
      "source": [
        "# Exercício 10 - Analise a string apresentada abaixo e imprima apenas os caracteres da posição 1 a 18.\n",
        "frase = 'Infelizmente esse ano não haverá são joão. :('\n",
        "tam = len(frase)\n",
        "for x in range(1,tam):\n",
        "   if(x < 18):\n",
        "       print(frase[x])    "
      ],
      "execution_count": 0,
      "outputs": [
        {
          "output_type": "stream",
          "text": [
            "n\n",
            "f\n",
            "e\n",
            "l\n",
            "i\n",
            "z\n",
            "m\n",
            "e\n",
            "n\n",
            "t\n",
            "e\n",
            " \n",
            "e\n",
            "s\n",
            "s\n",
            "e\n",
            " \n"
          ],
          "name": "stdout"
        }
      ]
    },
    {
      "cell_type": "markdown",
      "metadata": {
        "id": "q9M90fHAYHbg",
        "colab_type": "text"
      },
      "source": [
        "# Fim"
      ]
    },
    {
      "cell_type": "markdown",
      "metadata": {
        "id": "rHBi6fb6YHbh",
        "colab_type": "text"
      },
      "source": [
        "###Obrigado - Data Science com Python - <a href=\"http://web.ficemcasa.ifce.edu.br/\">web.ficemcasa.ifce.edu.br</a>"
      ]
    }
  ]
}